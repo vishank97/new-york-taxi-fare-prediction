{
 "cells": [
  {
   "cell_type": "code",
   "execution_count": 5,
   "metadata": {
    "_cell_guid": "b1076dfc-b9ad-4769-8c92-a6c4dae69d19",
    "_uuid": "8f2839f25d086af736a60e9eeb907d3b93b6e0e5",
    "execution": {
     "iopub.execute_input": "2022-10-07T12:50:25.480156Z",
     "iopub.status.busy": "2022-10-07T12:50:25.478809Z",
     "iopub.status.idle": "2022-10-07T12:50:25.491418Z",
     "shell.execute_reply": "2022-10-07T12:50:25.489759Z",
     "shell.execute_reply.started": "2022-10-07T12:50:25.480087Z"
    }
   },
   "outputs": [
    {
     "name": "stdout",
     "output_type": "stream",
     "text": [
      "/kaggle/input/new-york-city-taxi-fare-prediction/sample_submission.csv\n",
      "/kaggle/input/new-york-city-taxi-fare-prediction/GCP-Coupons-Instructions.rtf\n",
      "/kaggle/input/new-york-city-taxi-fare-prediction/train.csv\n",
      "/kaggle/input/new-york-city-taxi-fare-prediction/test.csv\n"
     ]
    }
   ],
   "source": [
    "# This Python 3 environment comes with many helpful analytics libraries installed\n",
    "# It is defined by the kaggle/python Docker image: https://github.com/kaggle/docker-python\n",
    "# For example, here's several helpful packages to load\n",
    "\n",
    "import numpy as np # linear algebra\n",
    "import pandas as pd # data processing, CSV file I/O (e.g. pd.read_csv)\n",
    "\n",
    "# Input data files are available in the read-only \"../input/\" directory\n",
    "# For example, running this (by clicking run or pressing Shift+Enter) will list all files under the input directory\n",
    "\n",
    "import os\n",
    "for dirname, _, filenames in os.walk('/kaggle/input'):\n",
    "    for filename in filenames:\n",
    "        print(os.path.join(dirname, filename))\n",
    "\n",
    "# You can write up to 20GB to the current directory (/kaggle/working/) that gets preserved as output when you create a version using \"Save & Run All\" \n",
    "# You can also write temporary files to /kaggle/temp/, but they won't be saved outside of the current session"
   ]
  },
  {
   "cell_type": "code",
   "execution_count": 6,
   "metadata": {
    "execution": {
     "iopub.execute_input": "2022-10-07T12:50:26.050337Z",
     "iopub.status.busy": "2022-10-07T12:50:26.049821Z",
     "iopub.status.idle": "2022-10-07T12:50:26.056158Z",
     "shell.execute_reply": "2022-10-07T12:50:26.054767Z",
     "shell.execute_reply.started": "2022-10-07T12:50:26.050215Z"
    }
   },
   "outputs": [],
   "source": [
    "import pandas as pd"
   ]
  },
  {
   "cell_type": "code",
   "execution_count": 7,
   "metadata": {
    "execution": {
     "iopub.execute_input": "2022-10-07T12:50:26.737033Z",
     "iopub.status.busy": "2022-10-07T12:50:26.736399Z",
     "iopub.status.idle": "2022-10-07T12:50:30.563653Z",
     "shell.execute_reply": "2022-10-07T12:50:30.562586Z",
     "shell.execute_reply.started": "2022-10-07T12:50:26.736998Z"
    }
   },
   "outputs": [],
   "source": [
    "train_df = pd.read_csv('../input/new-york-city-taxi-fare-prediction/train.csv',nrows=1000000)\n",
    "test_df = pd.read_csv('../input/new-york-city-taxi-fare-prediction/test.csv')\n",
    "# train_df.head()"
   ]
  },
  {
   "cell_type": "code",
   "execution_count": 8,
   "metadata": {
    "execution": {
     "iopub.execute_input": "2022-10-07T12:50:30.566683Z",
     "iopub.status.busy": "2022-10-07T12:50:30.566272Z",
     "iopub.status.idle": "2022-10-07T12:50:30.578311Z",
     "shell.execute_reply": "2022-10-07T12:50:30.576505Z",
     "shell.execute_reply.started": "2022-10-07T12:50:30.566637Z"
    }
   },
   "outputs": [
    {
     "data": {
      "text/plain": [
       "(1000000, 8)"
      ]
     },
     "execution_count": 8,
     "metadata": {},
     "output_type": "execute_result"
    }
   ],
   "source": [
    "train_df.shape"
   ]
  },
  {
   "cell_type": "code",
   "execution_count": 9,
   "metadata": {
    "execution": {
     "iopub.execute_input": "2022-10-07T12:50:30.581341Z",
     "iopub.status.busy": "2022-10-07T12:50:30.580195Z",
     "iopub.status.idle": "2022-10-07T12:50:30.717081Z",
     "shell.execute_reply": "2022-10-07T12:50:30.715535Z",
     "shell.execute_reply.started": "2022-10-07T12:50:30.581287Z"
    }
   },
   "outputs": [
    {
     "name": "stdout",
     "output_type": "stream",
     "text": [
      "<class 'pandas.core.frame.DataFrame'>\n",
      "RangeIndex: 1000000 entries, 0 to 999999\n",
      "Data columns (total 8 columns):\n",
      " #   Column             Non-Null Count    Dtype  \n",
      "---  ------             --------------    -----  \n",
      " 0   key                1000000 non-null  object \n",
      " 1   fare_amount        1000000 non-null  float64\n",
      " 2   pickup_datetime    1000000 non-null  object \n",
      " 3   pickup_longitude   1000000 non-null  float64\n",
      " 4   pickup_latitude    1000000 non-null  float64\n",
      " 5   dropoff_longitude  999990 non-null   float64\n",
      " 6   dropoff_latitude   999990 non-null   float64\n",
      " 7   passenger_count    1000000 non-null  int64  \n",
      "dtypes: float64(5), int64(1), object(2)\n",
      "memory usage: 61.0+ MB\n"
     ]
    }
   ],
   "source": [
    "train_df.info()"
   ]
  },
  {
   "cell_type": "code",
   "execution_count": 10,
   "metadata": {
    "execution": {
     "iopub.execute_input": "2022-10-07T12:50:30.719865Z",
     "iopub.status.busy": "2022-10-07T12:50:30.719430Z",
     "iopub.status.idle": "2022-10-07T12:50:31.132423Z",
     "shell.execute_reply": "2022-10-07T12:50:31.131277Z",
     "shell.execute_reply.started": "2022-10-07T12:50:30.719827Z"
    }
   },
   "outputs": [
    {
     "data": {
      "text/html": [
       "<div>\n",
       "<style scoped>\n",
       "    .dataframe tbody tr th:only-of-type {\n",
       "        vertical-align: middle;\n",
       "    }\n",
       "\n",
       "    .dataframe tbody tr th {\n",
       "        vertical-align: top;\n",
       "    }\n",
       "\n",
       "    .dataframe thead th {\n",
       "        text-align: right;\n",
       "    }\n",
       "</style>\n",
       "<table border=\"1\" class=\"dataframe\">\n",
       "  <thead>\n",
       "    <tr style=\"text-align: right;\">\n",
       "      <th></th>\n",
       "      <th>fare_amount</th>\n",
       "      <th>pickup_longitude</th>\n",
       "      <th>pickup_latitude</th>\n",
       "      <th>dropoff_longitude</th>\n",
       "      <th>dropoff_latitude</th>\n",
       "      <th>passenger_count</th>\n",
       "    </tr>\n",
       "  </thead>\n",
       "  <tbody>\n",
       "    <tr>\n",
       "      <th>count</th>\n",
       "      <td>1000000.000000</td>\n",
       "      <td>1000000.000000</td>\n",
       "      <td>1000000.000000</td>\n",
       "      <td>999990.000000</td>\n",
       "      <td>999990.000000</td>\n",
       "      <td>1000000.000000</td>\n",
       "    </tr>\n",
       "    <tr>\n",
       "      <th>mean</th>\n",
       "      <td>11.348079</td>\n",
       "      <td>-72.526640</td>\n",
       "      <td>39.929008</td>\n",
       "      <td>-72.527860</td>\n",
       "      <td>39.919954</td>\n",
       "      <td>1.684924</td>\n",
       "    </tr>\n",
       "    <tr>\n",
       "      <th>std</th>\n",
       "      <td>9.822090</td>\n",
       "      <td>12.057937</td>\n",
       "      <td>7.626154</td>\n",
       "      <td>11.324494</td>\n",
       "      <td>8.201418</td>\n",
       "      <td>1.323911</td>\n",
       "    </tr>\n",
       "    <tr>\n",
       "      <th>min</th>\n",
       "      <td>-44.900000</td>\n",
       "      <td>-3377.680935</td>\n",
       "      <td>-3116.285383</td>\n",
       "      <td>-3383.296608</td>\n",
       "      <td>-3114.338567</td>\n",
       "      <td>0.000000</td>\n",
       "    </tr>\n",
       "    <tr>\n",
       "      <th>25%</th>\n",
       "      <td>6.000000</td>\n",
       "      <td>-73.992060</td>\n",
       "      <td>40.734965</td>\n",
       "      <td>-73.991385</td>\n",
       "      <td>40.734046</td>\n",
       "      <td>1.000000</td>\n",
       "    </tr>\n",
       "    <tr>\n",
       "      <th>50%</th>\n",
       "      <td>8.500000</td>\n",
       "      <td>-73.981792</td>\n",
       "      <td>40.752695</td>\n",
       "      <td>-73.980135</td>\n",
       "      <td>40.753166</td>\n",
       "      <td>1.000000</td>\n",
       "    </tr>\n",
       "    <tr>\n",
       "      <th>75%</th>\n",
       "      <td>12.500000</td>\n",
       "      <td>-73.967094</td>\n",
       "      <td>40.767154</td>\n",
       "      <td>-73.963654</td>\n",
       "      <td>40.768129</td>\n",
       "      <td>2.000000</td>\n",
       "    </tr>\n",
       "    <tr>\n",
       "      <th>max</th>\n",
       "      <td>500.000000</td>\n",
       "      <td>2522.271325</td>\n",
       "      <td>2621.628430</td>\n",
       "      <td>45.581619</td>\n",
       "      <td>1651.553433</td>\n",
       "      <td>208.000000</td>\n",
       "    </tr>\n",
       "  </tbody>\n",
       "</table>\n",
       "</div>"
      ],
      "text/plain": [
       "          fare_amount  pickup_longitude  pickup_latitude  dropoff_longitude  \\\n",
       "count  1000000.000000    1000000.000000   1000000.000000      999990.000000   \n",
       "mean        11.348079        -72.526640        39.929008         -72.527860   \n",
       "std          9.822090         12.057937         7.626154          11.324494   \n",
       "min        -44.900000      -3377.680935     -3116.285383       -3383.296608   \n",
       "25%          6.000000        -73.992060        40.734965         -73.991385   \n",
       "50%          8.500000        -73.981792        40.752695         -73.980135   \n",
       "75%         12.500000        -73.967094        40.767154         -73.963654   \n",
       "max        500.000000       2522.271325      2621.628430          45.581619   \n",
       "\n",
       "       dropoff_latitude  passenger_count  \n",
       "count     999990.000000   1000000.000000  \n",
       "mean          39.919954         1.684924  \n",
       "std            8.201418         1.323911  \n",
       "min        -3114.338567         0.000000  \n",
       "25%           40.734046         1.000000  \n",
       "50%           40.753166         1.000000  \n",
       "75%           40.768129         2.000000  \n",
       "max         1651.553433       208.000000  "
      ]
     },
     "execution_count": 10,
     "metadata": {},
     "output_type": "execute_result"
    }
   ],
   "source": [
    "train_df.describe()"
   ]
  },
  {
   "cell_type": "code",
   "execution_count": 11,
   "metadata": {
    "execution": {
     "iopub.execute_input": "2022-10-07T12:50:34.995502Z",
     "iopub.status.busy": "2022-10-07T12:50:34.995110Z",
     "iopub.status.idle": "2022-10-07T12:50:35.565532Z",
     "shell.execute_reply": "2022-10-07T12:50:35.564247Z",
     "shell.execute_reply.started": "2022-10-07T12:50:34.995470Z"
    }
   },
   "outputs": [
    {
     "name": "stdout",
     "output_type": "stream",
     "text": [
      "1000000\n",
      "999933\n",
      "996368\n",
      "996356\n",
      "996348\n",
      "996337\n",
      "996328\n"
     ]
    }
   ],
   "source": [
    "print(len(train_df))\n",
    "train_df = train_df[train_df.fare_amount > 0]\n",
    "print(len(train_df))\n",
    "train_df = train_df[train_df.passenger_count > 0]\n",
    "print(len(train_df))\n",
    "train_df = train_df.iloc[np.where((train_df.pickup_latitude >= -90) & (train_df.pickup_latitude <= 90))]\n",
    "print(len(train_df))\n",
    "train_df = train_df.iloc[np.where((train_df.dropoff_latitude >= -90) & (train_df.dropoff_latitude <= 90))]\n",
    "print(len(train_df))\n",
    "train_df = train_df.iloc[np.where((train_df.pickup_longitude >= -180) & (train_df.pickup_longitude <= 180))]\n",
    "print(len(train_df))\n",
    "train_df = train_df.iloc[np.where((train_df.dropoff_longitude >= -180) & (train_df.dropoff_longitude <= 180))]\n",
    "print(len(train_df))"
   ]
  },
  {
   "cell_type": "code",
   "execution_count": 12,
   "metadata": {
    "execution": {
     "iopub.execute_input": "2022-10-07T12:50:35.612601Z",
     "iopub.status.busy": "2022-10-07T12:50:35.611592Z",
     "iopub.status.idle": "2022-10-07T12:50:35.719490Z",
     "shell.execute_reply": "2022-10-07T12:50:35.718039Z",
     "shell.execute_reply.started": "2022-10-07T12:50:35.612554Z"
    }
   },
   "outputs": [
    {
     "data": {
      "text/plain": [
       "key                  0\n",
       "fare_amount          0\n",
       "pickup_datetime      0\n",
       "pickup_longitude     0\n",
       "pickup_latitude      0\n",
       "dropoff_longitude    0\n",
       "dropoff_latitude     0\n",
       "passenger_count      0\n",
       "dtype: int64"
      ]
     },
     "execution_count": 12,
     "metadata": {},
     "output_type": "execute_result"
    }
   ],
   "source": [
    "train_df.isna().sum()"
   ]
  },
  {
   "cell_type": "code",
   "execution_count": 8,
   "metadata": {
    "execution": {
     "iopub.execute_input": "2022-10-06T12:22:58.331432Z",
     "iopub.status.busy": "2022-10-06T12:22:58.331020Z",
     "iopub.status.idle": "2022-10-06T12:22:58.449287Z",
     "shell.execute_reply": "2022-10-06T12:22:58.448333Z",
     "shell.execute_reply.started": "2022-10-06T12:22:58.331395Z"
    }
   },
   "outputs": [],
   "source": [
    "# train_df.dropoff_longitude.fillna(train_df.dropoff_longitude.mode()[0],inplace=True)\n",
    "# train_df.dropoff_latitude.fillna(train_df.dropoff_longitude.mode()[0],inplace=True)"
   ]
  },
  {
   "cell_type": "code",
   "execution_count": 13,
   "metadata": {
    "execution": {
     "iopub.execute_input": "2022-10-07T12:50:39.262561Z",
     "iopub.status.busy": "2022-10-07T12:50:39.262158Z",
     "iopub.status.idle": "2022-10-07T12:53:14.197227Z",
     "shell.execute_reply": "2022-10-07T12:53:14.195865Z",
     "shell.execute_reply.started": "2022-10-07T12:50:39.262528Z"
    }
   },
   "outputs": [
    {
     "data": {
      "text/html": [
       "<div>\n",
       "<style scoped>\n",
       "    .dataframe tbody tr th:only-of-type {\n",
       "        vertical-align: middle;\n",
       "    }\n",
       "\n",
       "    .dataframe tbody tr th {\n",
       "        vertical-align: top;\n",
       "    }\n",
       "\n",
       "    .dataframe thead th {\n",
       "        text-align: right;\n",
       "    }\n",
       "</style>\n",
       "<table border=\"1\" class=\"dataframe\">\n",
       "  <thead>\n",
       "    <tr style=\"text-align: right;\">\n",
       "      <th></th>\n",
       "      <th>key</th>\n",
       "      <th>fare_amount</th>\n",
       "      <th>pickup_datetime</th>\n",
       "      <th>pickup_longitude</th>\n",
       "      <th>pickup_latitude</th>\n",
       "      <th>dropoff_longitude</th>\n",
       "      <th>dropoff_latitude</th>\n",
       "      <th>passenger_count</th>\n",
       "    </tr>\n",
       "  </thead>\n",
       "  <tbody>\n",
       "    <tr>\n",
       "      <th>0</th>\n",
       "      <td>2009-06-15 17:26:21.0000001</td>\n",
       "      <td>4.5</td>\n",
       "      <td>2009-06-15 17:26:21</td>\n",
       "      <td>-73.844311</td>\n",
       "      <td>40.721319</td>\n",
       "      <td>-73.841610</td>\n",
       "      <td>40.712278</td>\n",
       "      <td>1</td>\n",
       "    </tr>\n",
       "    <tr>\n",
       "      <th>1</th>\n",
       "      <td>2010-01-05 16:52:16.0000002</td>\n",
       "      <td>16.9</td>\n",
       "      <td>2010-01-05 16:52:16</td>\n",
       "      <td>-74.016048</td>\n",
       "      <td>40.711303</td>\n",
       "      <td>-73.979268</td>\n",
       "      <td>40.782004</td>\n",
       "      <td>1</td>\n",
       "    </tr>\n",
       "    <tr>\n",
       "      <th>2</th>\n",
       "      <td>2011-08-18 00:35:00.00000049</td>\n",
       "      <td>5.7</td>\n",
       "      <td>2011-08-18 00:35:00</td>\n",
       "      <td>-73.982738</td>\n",
       "      <td>40.761270</td>\n",
       "      <td>-73.991242</td>\n",
       "      <td>40.750562</td>\n",
       "      <td>2</td>\n",
       "    </tr>\n",
       "    <tr>\n",
       "      <th>3</th>\n",
       "      <td>2012-04-21 04:30:42.0000001</td>\n",
       "      <td>7.7</td>\n",
       "      <td>2012-04-21 04:30:42</td>\n",
       "      <td>-73.987130</td>\n",
       "      <td>40.733143</td>\n",
       "      <td>-73.991567</td>\n",
       "      <td>40.758092</td>\n",
       "      <td>1</td>\n",
       "    </tr>\n",
       "    <tr>\n",
       "      <th>4</th>\n",
       "      <td>2010-03-09 07:51:00.000000135</td>\n",
       "      <td>5.3</td>\n",
       "      <td>2010-03-09 07:51:00</td>\n",
       "      <td>-73.968095</td>\n",
       "      <td>40.768008</td>\n",
       "      <td>-73.956655</td>\n",
       "      <td>40.783762</td>\n",
       "      <td>1</td>\n",
       "    </tr>\n",
       "  </tbody>\n",
       "</table>\n",
       "</div>"
      ],
      "text/plain": [
       "                             key  fare_amount     pickup_datetime  \\\n",
       "0    2009-06-15 17:26:21.0000001          4.5 2009-06-15 17:26:21   \n",
       "1    2010-01-05 16:52:16.0000002         16.9 2010-01-05 16:52:16   \n",
       "2   2011-08-18 00:35:00.00000049          5.7 2011-08-18 00:35:00   \n",
       "3    2012-04-21 04:30:42.0000001          7.7 2012-04-21 04:30:42   \n",
       "4  2010-03-09 07:51:00.000000135          5.3 2010-03-09 07:51:00   \n",
       "\n",
       "   pickup_longitude  pickup_latitude  dropoff_longitude  dropoff_latitude  \\\n",
       "0        -73.844311        40.721319         -73.841610         40.712278   \n",
       "1        -74.016048        40.711303         -73.979268         40.782004   \n",
       "2        -73.982738        40.761270         -73.991242         40.750562   \n",
       "3        -73.987130        40.733143         -73.991567         40.758092   \n",
       "4        -73.968095        40.768008         -73.956655         40.783762   \n",
       "\n",
       "   passenger_count  \n",
       "0                1  \n",
       "1                1  \n",
       "2                2  \n",
       "3                1  \n",
       "4                1  "
      ]
     },
     "execution_count": 13,
     "metadata": {},
     "output_type": "execute_result"
    }
   ],
   "source": [
    "train_df = train_df.astype({'pickup_datetime':'datetime64'})\n",
    "test_df = test_df.astype({'pickup_datetime':'datetime64'})\n",
    "train_df.head()"
   ]
  },
  {
   "cell_type": "code",
   "execution_count": 14,
   "metadata": {
    "execution": {
     "iopub.execute_input": "2022-10-07T12:53:14.199778Z",
     "iopub.status.busy": "2022-10-07T12:53:14.199428Z",
     "iopub.status.idle": "2022-10-07T12:53:15.846857Z",
     "shell.execute_reply": "2022-10-07T12:53:15.845762Z",
     "shell.execute_reply.started": "2022-10-07T12:53:14.199747Z"
    }
   },
   "outputs": [],
   "source": [
    "train_df['month'] = train_df.pickup_datetime.dt.month\n",
    "train_df['year'] = train_df.pickup_datetime.dt.year\n",
    "train_df['hour'] = train_df.pickup_datetime.dt.hour\n",
    "train_df['day_of_week_name'] = train_df.pickup_datetime.dt.day_name()\n",
    "train_df['day_of_week'] = train_df.pickup_datetime.dt.dayofweek\n",
    "\n",
    "test_df['month'] = train_df.pickup_datetime.dt.month\n",
    "test_df['year'] = train_df.pickup_datetime.dt.year\n",
    "test_df['hour'] = train_df.pickup_datetime.dt.hour\n",
    "test_df['day_of_week_name'] = train_df.pickup_datetime.dt.day_name()\n",
    "test_df['day_of_week'] = train_df.pickup_datetime.dt.dayofweek"
   ]
  },
  {
   "cell_type": "code",
   "execution_count": 15,
   "metadata": {
    "execution": {
     "iopub.execute_input": "2022-10-07T12:53:15.848504Z",
     "iopub.status.busy": "2022-10-07T12:53:15.848091Z",
     "iopub.status.idle": "2022-10-07T12:53:15.868114Z",
     "shell.execute_reply": "2022-10-07T12:53:15.866674Z",
     "shell.execute_reply.started": "2022-10-07T12:53:15.848473Z"
    }
   },
   "outputs": [
    {
     "data": {
      "text/html": [
       "<div>\n",
       "<style scoped>\n",
       "    .dataframe tbody tr th:only-of-type {\n",
       "        vertical-align: middle;\n",
       "    }\n",
       "\n",
       "    .dataframe tbody tr th {\n",
       "        vertical-align: top;\n",
       "    }\n",
       "\n",
       "    .dataframe thead th {\n",
       "        text-align: right;\n",
       "    }\n",
       "</style>\n",
       "<table border=\"1\" class=\"dataframe\">\n",
       "  <thead>\n",
       "    <tr style=\"text-align: right;\">\n",
       "      <th></th>\n",
       "      <th>key</th>\n",
       "      <th>fare_amount</th>\n",
       "      <th>pickup_datetime</th>\n",
       "      <th>pickup_longitude</th>\n",
       "      <th>pickup_latitude</th>\n",
       "      <th>dropoff_longitude</th>\n",
       "      <th>dropoff_latitude</th>\n",
       "      <th>passenger_count</th>\n",
       "      <th>month</th>\n",
       "      <th>year</th>\n",
       "      <th>hour</th>\n",
       "      <th>day_of_week_name</th>\n",
       "      <th>day_of_week</th>\n",
       "    </tr>\n",
       "  </thead>\n",
       "  <tbody>\n",
       "    <tr>\n",
       "      <th>0</th>\n",
       "      <td>2009-06-15 17:26:21.0000001</td>\n",
       "      <td>4.5</td>\n",
       "      <td>2009-06-15 17:26:21</td>\n",
       "      <td>-73.844311</td>\n",
       "      <td>40.721319</td>\n",
       "      <td>-73.841610</td>\n",
       "      <td>40.712278</td>\n",
       "      <td>1</td>\n",
       "      <td>6</td>\n",
       "      <td>2009</td>\n",
       "      <td>17</td>\n",
       "      <td>Monday</td>\n",
       "      <td>0</td>\n",
       "    </tr>\n",
       "    <tr>\n",
       "      <th>1</th>\n",
       "      <td>2010-01-05 16:52:16.0000002</td>\n",
       "      <td>16.9</td>\n",
       "      <td>2010-01-05 16:52:16</td>\n",
       "      <td>-74.016048</td>\n",
       "      <td>40.711303</td>\n",
       "      <td>-73.979268</td>\n",
       "      <td>40.782004</td>\n",
       "      <td>1</td>\n",
       "      <td>1</td>\n",
       "      <td>2010</td>\n",
       "      <td>16</td>\n",
       "      <td>Tuesday</td>\n",
       "      <td>1</td>\n",
       "    </tr>\n",
       "    <tr>\n",
       "      <th>2</th>\n",
       "      <td>2011-08-18 00:35:00.00000049</td>\n",
       "      <td>5.7</td>\n",
       "      <td>2011-08-18 00:35:00</td>\n",
       "      <td>-73.982738</td>\n",
       "      <td>40.761270</td>\n",
       "      <td>-73.991242</td>\n",
       "      <td>40.750562</td>\n",
       "      <td>2</td>\n",
       "      <td>8</td>\n",
       "      <td>2011</td>\n",
       "      <td>0</td>\n",
       "      <td>Thursday</td>\n",
       "      <td>3</td>\n",
       "    </tr>\n",
       "    <tr>\n",
       "      <th>3</th>\n",
       "      <td>2012-04-21 04:30:42.0000001</td>\n",
       "      <td>7.7</td>\n",
       "      <td>2012-04-21 04:30:42</td>\n",
       "      <td>-73.987130</td>\n",
       "      <td>40.733143</td>\n",
       "      <td>-73.991567</td>\n",
       "      <td>40.758092</td>\n",
       "      <td>1</td>\n",
       "      <td>4</td>\n",
       "      <td>2012</td>\n",
       "      <td>4</td>\n",
       "      <td>Saturday</td>\n",
       "      <td>5</td>\n",
       "    </tr>\n",
       "    <tr>\n",
       "      <th>4</th>\n",
       "      <td>2010-03-09 07:51:00.000000135</td>\n",
       "      <td>5.3</td>\n",
       "      <td>2010-03-09 07:51:00</td>\n",
       "      <td>-73.968095</td>\n",
       "      <td>40.768008</td>\n",
       "      <td>-73.956655</td>\n",
       "      <td>40.783762</td>\n",
       "      <td>1</td>\n",
       "      <td>3</td>\n",
       "      <td>2010</td>\n",
       "      <td>7</td>\n",
       "      <td>Tuesday</td>\n",
       "      <td>1</td>\n",
       "    </tr>\n",
       "  </tbody>\n",
       "</table>\n",
       "</div>"
      ],
      "text/plain": [
       "                             key  fare_amount     pickup_datetime  \\\n",
       "0    2009-06-15 17:26:21.0000001          4.5 2009-06-15 17:26:21   \n",
       "1    2010-01-05 16:52:16.0000002         16.9 2010-01-05 16:52:16   \n",
       "2   2011-08-18 00:35:00.00000049          5.7 2011-08-18 00:35:00   \n",
       "3    2012-04-21 04:30:42.0000001          7.7 2012-04-21 04:30:42   \n",
       "4  2010-03-09 07:51:00.000000135          5.3 2010-03-09 07:51:00   \n",
       "\n",
       "   pickup_longitude  pickup_latitude  dropoff_longitude  dropoff_latitude  \\\n",
       "0        -73.844311        40.721319         -73.841610         40.712278   \n",
       "1        -74.016048        40.711303         -73.979268         40.782004   \n",
       "2        -73.982738        40.761270         -73.991242         40.750562   \n",
       "3        -73.987130        40.733143         -73.991567         40.758092   \n",
       "4        -73.968095        40.768008         -73.956655         40.783762   \n",
       "\n",
       "   passenger_count  month  year  hour day_of_week_name  day_of_week  \n",
       "0                1      6  2009    17           Monday            0  \n",
       "1                1      1  2010    16          Tuesday            1  \n",
       "2                2      8  2011     0         Thursday            3  \n",
       "3                1      4  2012     4         Saturday            5  \n",
       "4                1      3  2010     7          Tuesday            1  "
      ]
     },
     "execution_count": 15,
     "metadata": {},
     "output_type": "execute_result"
    }
   ],
   "source": [
    "train_df.head()"
   ]
  },
  {
   "cell_type": "code",
   "execution_count": 44,
   "metadata": {
    "execution": {
     "iopub.execute_input": "2022-10-07T05:06:47.281162Z",
     "iopub.status.busy": "2022-10-07T05:06:47.280745Z",
     "iopub.status.idle": "2022-10-07T05:11:08.065964Z",
     "shell.execute_reply": "2022-10-07T05:11:08.064902Z",
     "shell.execute_reply.started": "2022-10-07T05:06:47.281137Z"
    }
   },
   "outputs": [
    {
     "name": "stderr",
     "output_type": "stream",
     "text": [
      "100%|██████████| 996328/996328 [04:18<00:00, 3859.55it/s]\n",
      "100%|██████████| 9914/9914 [00:02<00:00, 3805.44it/s]\n"
     ]
    },
    {
     "data": {
      "text/html": [
       "<div>\n",
       "<style scoped>\n",
       "    .dataframe tbody tr th:only-of-type {\n",
       "        vertical-align: middle;\n",
       "    }\n",
       "\n",
       "    .dataframe tbody tr th {\n",
       "        vertical-align: top;\n",
       "    }\n",
       "\n",
       "    .dataframe thead th {\n",
       "        text-align: right;\n",
       "    }\n",
       "</style>\n",
       "<table border=\"1\" class=\"dataframe\">\n",
       "  <thead>\n",
       "    <tr style=\"text-align: right;\">\n",
       "      <th></th>\n",
       "      <th>key</th>\n",
       "      <th>fare_amount</th>\n",
       "      <th>pickup_datetime</th>\n",
       "      <th>pickup_longitude</th>\n",
       "      <th>pickup_latitude</th>\n",
       "      <th>dropoff_longitude</th>\n",
       "      <th>dropoff_latitude</th>\n",
       "      <th>passenger_count</th>\n",
       "      <th>month</th>\n",
       "      <th>year</th>\n",
       "      <th>hour</th>\n",
       "      <th>day_of_week_name</th>\n",
       "      <th>day_of_week</th>\n",
       "      <th>dist_travelled</th>\n",
       "    </tr>\n",
       "  </thead>\n",
       "  <tbody>\n",
       "    <tr>\n",
       "      <th>0</th>\n",
       "      <td>2009-06-15 17:26:21.0000001</td>\n",
       "      <td>4.5</td>\n",
       "      <td>2009-06-15 17:26:21</td>\n",
       "      <td>-73.844311</td>\n",
       "      <td>40.721319</td>\n",
       "      <td>-73.841610</td>\n",
       "      <td>40.712278</td>\n",
       "      <td>1</td>\n",
       "      <td>6</td>\n",
       "      <td>2009</td>\n",
       "      <td>17</td>\n",
       "      <td>Monday</td>\n",
       "      <td>0</td>\n",
       "      <td>1.03</td>\n",
       "    </tr>\n",
       "    <tr>\n",
       "      <th>1</th>\n",
       "      <td>2010-01-05 16:52:16.0000002</td>\n",
       "      <td>16.9</td>\n",
       "      <td>2010-01-05 16:52:16</td>\n",
       "      <td>-74.016048</td>\n",
       "      <td>40.711303</td>\n",
       "      <td>-73.979268</td>\n",
       "      <td>40.782004</td>\n",
       "      <td>1</td>\n",
       "      <td>1</td>\n",
       "      <td>2010</td>\n",
       "      <td>16</td>\n",
       "      <td>Tuesday</td>\n",
       "      <td>1</td>\n",
       "      <td>8.44</td>\n",
       "    </tr>\n",
       "    <tr>\n",
       "      <th>2</th>\n",
       "      <td>2011-08-18 00:35:00.00000049</td>\n",
       "      <td>5.7</td>\n",
       "      <td>2011-08-18 00:35:00</td>\n",
       "      <td>-73.982738</td>\n",
       "      <td>40.761270</td>\n",
       "      <td>-73.991242</td>\n",
       "      <td>40.750562</td>\n",
       "      <td>2</td>\n",
       "      <td>8</td>\n",
       "      <td>2011</td>\n",
       "      <td>0</td>\n",
       "      <td>Thursday</td>\n",
       "      <td>3</td>\n",
       "      <td>1.39</td>\n",
       "    </tr>\n",
       "    <tr>\n",
       "      <th>3</th>\n",
       "      <td>2012-04-21 04:30:42.0000001</td>\n",
       "      <td>7.7</td>\n",
       "      <td>2012-04-21 04:30:42</td>\n",
       "      <td>-73.987130</td>\n",
       "      <td>40.733143</td>\n",
       "      <td>-73.991567</td>\n",
       "      <td>40.758092</td>\n",
       "      <td>1</td>\n",
       "      <td>4</td>\n",
       "      <td>2012</td>\n",
       "      <td>4</td>\n",
       "      <td>Saturday</td>\n",
       "      <td>5</td>\n",
       "      <td>2.80</td>\n",
       "    </tr>\n",
       "    <tr>\n",
       "      <th>4</th>\n",
       "      <td>2010-03-09 07:51:00.000000135</td>\n",
       "      <td>5.3</td>\n",
       "      <td>2010-03-09 07:51:00</td>\n",
       "      <td>-73.968095</td>\n",
       "      <td>40.768008</td>\n",
       "      <td>-73.956655</td>\n",
       "      <td>40.783762</td>\n",
       "      <td>1</td>\n",
       "      <td>3</td>\n",
       "      <td>2010</td>\n",
       "      <td>7</td>\n",
       "      <td>Tuesday</td>\n",
       "      <td>1</td>\n",
       "      <td>2.00</td>\n",
       "    </tr>\n",
       "  </tbody>\n",
       "</table>\n",
       "</div>"
      ],
      "text/plain": [
       "                             key  fare_amount     pickup_datetime  \\\n",
       "0    2009-06-15 17:26:21.0000001          4.5 2009-06-15 17:26:21   \n",
       "1    2010-01-05 16:52:16.0000002         16.9 2010-01-05 16:52:16   \n",
       "2   2011-08-18 00:35:00.00000049          5.7 2011-08-18 00:35:00   \n",
       "3    2012-04-21 04:30:42.0000001          7.7 2012-04-21 04:30:42   \n",
       "4  2010-03-09 07:51:00.000000135          5.3 2010-03-09 07:51:00   \n",
       "\n",
       "   pickup_longitude  pickup_latitude  dropoff_longitude  dropoff_latitude  \\\n",
       "0        -73.844311        40.721319         -73.841610         40.712278   \n",
       "1        -74.016048        40.711303         -73.979268         40.782004   \n",
       "2        -73.982738        40.761270         -73.991242         40.750562   \n",
       "3        -73.987130        40.733143         -73.991567         40.758092   \n",
       "4        -73.968095        40.768008         -73.956655         40.783762   \n",
       "\n",
       "   passenger_count  month  year  hour day_of_week_name  day_of_week  \\\n",
       "0                1      6  2009    17           Monday            0   \n",
       "1                1      1  2010    16          Tuesday            1   \n",
       "2                2      8  2011     0         Thursday            3   \n",
       "3                1      4  2012     4         Saturday            5   \n",
       "4                1      3  2010     7          Tuesday            1   \n",
       "\n",
       "   dist_travelled  \n",
       "0            1.03  \n",
       "1            8.44  \n",
       "2            1.39  \n",
       "3            2.80  \n",
       "4            2.00  "
      ]
     },
     "execution_count": 44,
     "metadata": {},
     "output_type": "execute_result"
    }
   ],
   "source": [
    "import geopy.distance\n",
    "from tqdm import tqdm\n",
    "tqdm.pandas()\n",
    "\n",
    "train_df['dist_travelled'] = train_df.progress_apply(lambda x: round(geopy.distance.geodesic((x['pickup_latitude'],x['pickup_longitude']),(x['dropoff_latitude'],x['dropoff_longitude'])).km,2),axis=1)\n",
    "test_df['dist_travelled'] = test_df.progress_apply(lambda x: round(geopy.distance.geodesic((x['pickup_latitude'],x['pickup_longitude']),(x['dropoff_latitude'],x['dropoff_longitude'])).km,2),axis=1)\n",
    "train_df.head()"
   ]
  },
  {
   "cell_type": "code",
   "execution_count": 16,
   "metadata": {
    "execution": {
     "iopub.execute_input": "2022-10-07T12:53:15.872468Z",
     "iopub.status.busy": "2022-10-07T12:53:15.871673Z",
     "iopub.status.idle": "2022-10-07T12:53:16.152821Z",
     "shell.execute_reply": "2022-10-07T12:53:16.151716Z",
     "shell.execute_reply.started": "2022-10-07T12:53:15.872421Z"
    }
   },
   "outputs": [],
   "source": [
    "from sklearn.preprocessing import OrdinalEncoder\n",
    "le = OrdinalEncoder()\n",
    "train_df['month'] = le.fit_transform(train_df[['month']])\n",
    "test_df['month'] = le.fit_transform(test_df[['month']])"
   ]
  },
  {
   "cell_type": "code",
   "execution_count": 18,
   "metadata": {
    "execution": {
     "iopub.execute_input": "2022-10-07T12:54:03.906647Z",
     "iopub.status.busy": "2022-10-07T12:54:03.906240Z",
     "iopub.status.idle": "2022-10-07T12:54:04.221827Z",
     "shell.execute_reply": "2022-10-07T12:54:04.220640Z",
     "shell.execute_reply.started": "2022-10-07T12:54:03.906610Z"
    }
   },
   "outputs": [],
   "source": [
    "from sklearn.model_selection import train_test_split\n",
    "\n",
    "X = train_df.drop(columns=['key','fare_amount','pickup_datetime','day_of_week_name'])\n",
    "y = train_df.fare_amount\n",
    "X_train, X_test, y_train, y_test = train_test_split(X, y, test_size=0.33, random_state=1)"
   ]
  },
  {
   "cell_type": "code",
   "execution_count": 19,
   "metadata": {
    "execution": {
     "iopub.execute_input": "2022-10-07T12:54:04.874450Z",
     "iopub.status.busy": "2022-10-07T12:54:04.874040Z",
     "iopub.status.idle": "2022-10-07T12:54:04.882226Z",
     "shell.execute_reply": "2022-10-07T12:54:04.880877Z",
     "shell.execute_reply.started": "2022-10-07T12:54:04.874416Z"
    }
   },
   "outputs": [
    {
     "data": {
      "text/plain": [
       "Index(['pickup_longitude', 'pickup_latitude', 'dropoff_longitude',\n",
       "       'dropoff_latitude', 'passenger_count', 'month', 'year', 'hour',\n",
       "       'day_of_week'],\n",
       "      dtype='object')"
      ]
     },
     "execution_count": 19,
     "metadata": {},
     "output_type": "execute_result"
    }
   ],
   "source": [
    "X_train.columns"
   ]
  },
  {
   "cell_type": "code",
   "execution_count": 20,
   "metadata": {
    "execution": {
     "iopub.execute_input": "2022-10-07T12:54:23.411990Z",
     "iopub.status.busy": "2022-10-07T12:54:23.411573Z",
     "iopub.status.idle": "2022-10-07T12:55:02.178499Z",
     "shell.execute_reply": "2022-10-07T12:55:02.177199Z",
     "shell.execute_reply.started": "2022-10-07T12:54:23.411932Z"
    }
   },
   "outputs": [],
   "source": [
    "from xgboost import XGBRegressor\n",
    "\n",
    "xgb = XGBRegressor()\n",
    "xgb.fit(X_train,y_train)\n",
    "y_pred_train = xgb.predict(X_train)\n",
    "y_pred_test = xgb.predict(X_test)"
   ]
  },
  {
   "cell_type": "code",
   "execution_count": 21,
   "metadata": {
    "execution": {
     "iopub.execute_input": "2022-10-07T12:55:02.181504Z",
     "iopub.status.busy": "2022-10-07T12:55:02.180737Z",
     "iopub.status.idle": "2022-10-07T12:55:02.195169Z",
     "shell.execute_reply": "2022-10-07T12:55:02.193746Z",
     "shell.execute_reply.started": "2022-10-07T12:55:02.181463Z"
    }
   },
   "outputs": [
    {
     "name": "stdout",
     "output_type": "stream",
     "text": [
      "15.097731158642485\n",
      "18.871061076792635\n"
     ]
    }
   ],
   "source": [
    "from sklearn.metrics import mean_squared_error\n",
    "print(mean_squared_error(y_train, y_pred_train))\n",
    "print(mean_squared_error(y_test, y_pred_test))"
   ]
  },
  {
   "cell_type": "code",
   "execution_count": 22,
   "metadata": {
    "execution": {
     "iopub.execute_input": "2022-10-07T12:55:02.198192Z",
     "iopub.status.busy": "2022-10-07T12:55:02.196996Z",
     "iopub.status.idle": "2022-10-07T12:55:02.212789Z",
     "shell.execute_reply": "2022-10-07T12:55:02.210787Z",
     "shell.execute_reply.started": "2022-10-07T12:55:02.198130Z"
    }
   },
   "outputs": [
    {
     "name": "stdout",
     "output_type": "stream",
     "text": [
      "3.885579899917448\n",
      "4.344083456471875\n"
     ]
    }
   ],
   "source": [
    "print(mean_squared_error(y_train, y_pred_train,squared=False))\n",
    "print(mean_squared_error(y_test, y_pred_test,squared=False))"
   ]
  },
  {
   "cell_type": "code",
   "execution_count": 48,
   "metadata": {
    "execution": {
     "iopub.execute_input": "2022-10-06T13:29:32.907561Z",
     "iopub.status.busy": "2022-10-06T13:29:32.907100Z",
     "iopub.status.idle": "2022-10-06T13:29:32.935184Z",
     "shell.execute_reply": "2022-10-06T13:29:32.934294Z",
     "shell.execute_reply.started": "2022-10-06T13:29:32.907521Z"
    }
   },
   "outputs": [],
   "source": [
    "final_df = pd.DataFrame()\n",
    "final_df['key'] = test_df.key\n",
    "final_df['fare_amount'] = xgb.predict(test_df.drop(columns=['key','pickup_datetime','day_of_week_name']))"
   ]
  },
  {
   "cell_type": "code",
   "execution_count": 50,
   "metadata": {
    "execution": {
     "iopub.execute_input": "2022-10-06T13:31:39.182561Z",
     "iopub.status.busy": "2022-10-06T13:31:39.182170Z",
     "iopub.status.idle": "2022-10-06T13:31:39.214308Z",
     "shell.execute_reply": "2022-10-06T13:31:39.213462Z",
     "shell.execute_reply.started": "2022-10-06T13:31:39.182527Z"
    }
   },
   "outputs": [],
   "source": [
    "final_df.to_csv('submission.csv',index=False)"
   ]
  },
  {
   "cell_type": "code",
   "execution_count": 20,
   "metadata": {
    "execution": {
     "iopub.execute_input": "2022-10-07T07:59:31.860172Z",
     "iopub.status.busy": "2022-10-07T07:59:31.859655Z",
     "iopub.status.idle": "2022-10-07T07:59:31.874237Z",
     "shell.execute_reply": "2022-10-07T07:59:31.872798Z",
     "shell.execute_reply.started": "2022-10-07T07:59:31.860122Z"
    }
   },
   "outputs": [],
   "source": [
    "import pickle\n",
    "\n",
    "pickle.dump(xgb, open('xgb.pkl', 'wb'))"
   ]
  },
  {
   "cell_type": "code",
   "execution_count": 3,
   "metadata": {
    "execution": {
     "iopub.execute_input": "2022-10-07T12:36:13.014013Z",
     "iopub.status.busy": "2022-10-07T12:36:13.013586Z",
     "iopub.status.idle": "2022-10-07T12:36:14.601256Z",
     "shell.execute_reply": "2022-10-07T12:36:14.600002Z",
     "shell.execute_reply.started": "2022-10-07T12:36:13.013945Z"
    }
   },
   "outputs": [],
   "source": [
    "import mlfoundry as mlf\n",
    "# mlf.login(tracking_uri='')"
   ]
  },
  {
   "cell_type": "code",
   "execution_count": 4,
   "metadata": {
    "execution": {
     "iopub.execute_input": "2022-10-07T12:36:40.474763Z",
     "iopub.status.busy": "2022-10-07T12:36:40.474335Z",
     "iopub.status.idle": "2022-10-07T12:36:51.838650Z",
     "shell.execute_reply": "2022-10-07T12:36:51.837250Z",
     "shell.execute_reply.started": "2022-10-07T12:36:40.474718Z"
    }
   },
   "outputs": [
    {
     "name": "stdout",
     "output_type": "stream",
     "text": [
      "Please get your API key from https://app.develop.truefoundry.tech/settings\n",
      "Paste your API key and hit enter: ····················································\n",
      "Writing API key at /root/.mlfoundry/credentials.netrc\n",
      "[mlfoundry] 2022-10-07T12:36:50+0000 INFO Welcome user! You are logged in as vishank-betatest\n",
      "[mlfoundry] 2022-10-07T12:36:50+0000 INFO project taxi-fare-prediction does not exist. Creating taxi-fare-prediction.\n",
      "Link to the dashboard for the run: https://app.develop.truefoundry.tech/mlfoundry/16/4c589cd1ac5344b8bf2523148dbf3a60/\n",
      "[mlfoundry] 2022-10-07T12:36:51+0000 WARNING failed to log git info because git repository is not present\n",
      "[mlfoundry] 2022-10-07T12:36:51+0000 INFO Run 'truefoundry/vishank-betatest/taxi-fare-prediction/xgb-model' has started.\n"
     ]
    }
   ],
   "source": [
    "client = mlf.get_client(tracking_uri='https://app.develop.truefoundry.tech')\n",
    "run = client.create_run(project_name=\"taxi-fare-prediction\", run_name=\"xgb-model\")"
   ]
  },
  {
   "cell_type": "code",
   "execution_count": 31,
   "metadata": {
    "execution": {
     "iopub.execute_input": "2022-10-07T13:10:52.673890Z",
     "iopub.status.busy": "2022-10-07T13:10:52.673379Z",
     "iopub.status.idle": "2022-10-07T13:11:02.089599Z",
     "shell.execute_reply": "2022-10-07T13:11:02.087731Z",
     "shell.execute_reply.started": "2022-10-07T13:10:52.673843Z"
    }
   },
   "outputs": [
    {
     "name": "stdout",
     "output_type": "stream",
     "text": [
      "[mlfoundry] 2022-10-07T13:10:52+0000 INFO Logging model and additional files, this might take a while ...\n",
      "[mlfoundry] 2022-10-07T13:10:52+0000 INFO Serializing model files to model version contents\n",
      "[mlfoundry] 2022-10-07T13:10:55+0000 INFO Packaging and uploading files to remote ...\n",
      "[mlfoundry] 2022-10-07T13:11:02+0000 INFO Logged model successfully with fqn 'model:truefoundry/vishank-betatest/taxi-fare-prediction/xgboost-regressor:1'\n"
     ]
    },
    {
     "data": {
      "text/plain": [
       "ModelVersion(fqn='model:truefoundry/vishank-betatest/taxi-fare-prediction/xgboost-regressor:1', model_schema=None)"
      ]
     },
     "execution_count": 31,
     "metadata": {},
     "output_type": "execute_result"
    }
   ],
   "source": [
    "run.log_params(xgb.get_xgb_params())\n",
    "run.log_metrics({'mse':round(mean_squared_error(y_test, y_pred_test),2),\n",
    "                'rmse':round(mean_squared_error(y_test, y_pred_test,squared=False),2)})\n",
    "run.log_model(model=xgb,framework='xgboost',name='xgboost-regressor')"
   ]
  }
 ],
 "metadata": {
  "kernelspec": {
   "display_name": "truefoundry",
   "language": "python",
   "name": "truefoundry"
  },
  "language_info": {
   "codemirror_mode": {
    "name": "ipython",
    "version": 3
   },
   "file_extension": ".py",
   "mimetype": "text/x-python",
   "name": "python",
   "nbconvert_exporter": "python",
   "pygments_lexer": "ipython3",
   "version": "3.9.12"
  },
  "vscode": {
   "interpreter": {
    "hash": "667b253540d0852a20dd1c89f8a348adaa2efa898f75bbdc6dc8ebc058a920a8"
   }
  }
 },
 "nbformat": 4,
 "nbformat_minor": 4
}
